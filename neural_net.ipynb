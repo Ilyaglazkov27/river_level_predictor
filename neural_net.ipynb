{
 "cells": [
  {
   "cell_type": "code",
   "execution_count": 1286,
   "metadata": {
    "collapsed": true
   },
   "outputs": [],
   "source": [
    "import torch\n",
    "import random\n",
    "import numpy as np\n",
    "import json\n",
    "import torch\n",
    "import matplotlib.pyplot as plt\n",
    "import numpy\n",
    "\n",
    "\n",
    "\n",
    "random.seed(0)\n",
    "np.random.seed(0)\n",
    "torch.manual_seed(0)\n",
    "torch.cuda.manual_seed(0)\n",
    "torch.backends.cudnn.deterministic = True\n"
   ]
  },
  {
   "cell_type": "code",
   "execution_count": 1287,
   "outputs": [],
   "source": [
    "with open('level_data.txt', 'r') as filehandle:\n",
    "    level_data = json.load(filehandle)\n",
    "with open('weather_data.txt', 'r') as filehandle:\n",
    "    weather_data = json.load(filehandle)\n",
    "\n",
    "dataset_x = []\n",
    "dataset_y = []\n",
    "for year in range(0, 19):\n",
    "    for month in [3, 4]:\n",
    "        lst = []\n",
    "        if month > 0:\n",
    "            for w in weather_data[year][month-1][len(weather_data[year][month-1])-90+len(weather_data[year][month]):] + weather_data[year][month]:\n",
    "                w['tempreture'] += 50\n",
    "                lst.append(list(w.values()))\n",
    "        else:\n",
    "            if year > 0:\n",
    "                for w in weather_data[year-1][11][len(weather_data[year-1][11]) - 90+len(weather_data[year][month]):] + weather_data[year][month]:\n",
    "                    w['tempreture'] += 50\n",
    "                    lst.append(list(w.values()))\n",
    "        if lst:\n",
    "            if len(lst) == 90:\n",
    "                dataset_x.append(lst)\n",
    "                dataset_y.append(level_data[year][month])"
   ],
   "metadata": {
    "collapsed": false,
    "pycharm": {
     "name": "#%%\n"
    }
   }
  },
  {
   "cell_type": "code",
   "execution_count": 1288,
   "outputs": [
    {
     "name": "stdout",
     "output_type": "stream",
     "text": [
      "38\n"
     ]
    }
   ],
   "source": [
    "dataset_x = torch.Tensor(dataset_x)\n",
    "dataset_y = torch.Tensor(dataset_y)\n",
    "print(len(dataset_x))\n"
   ],
   "metadata": {
    "collapsed": false,
    "pycharm": {
     "name": "#%%\n"
    }
   }
  },
  {
   "cell_type": "code",
   "execution_count": 1289,
   "outputs": [],
   "source": [
    "X_train = dataset_x[:35]\n",
    "y_train = dataset_y[:35]\n",
    "X_test = dataset_x[35:]\n",
    "y_test = dataset_y[35:]\n"
   ],
   "metadata": {
    "collapsed": false,
    "pycharm": {
     "name": "#%%\n"
    }
   }
  },
  {
   "cell_type": "code",
   "execution_count": 1290,
   "outputs": [
    {
     "data": {
      "text/plain": "(torch.float32, torch.float32)"
     },
     "execution_count": 1290,
     "metadata": {},
     "output_type": "execute_result"
    }
   ],
   "source": [
    "\n",
    "\n",
    "X_train.dtype, y_train.dtype\n",
    "\n"
   ],
   "metadata": {
    "collapsed": false,
    "pycharm": {
     "name": "#%%\n"
    }
   }
  },
  {
   "cell_type": "code",
   "execution_count": 1291,
   "outputs": [],
   "source": [
    "\n",
    "\n",
    "X_train = X_train.float()\n",
    "y_train = y_train.float()\n",
    "X_test = X_test.float()\n",
    "y_test = y_test.float()\n",
    "f1 = torch.nn.ReLU()\n",
    "f2 = torch.nn.ReLU()\n",
    "y_test = f1(y_test)\n",
    "y_train = f2(y_train)\n",
    "\n"
   ],
   "metadata": {
    "collapsed": false,
    "pycharm": {
     "name": "#%%\n"
    }
   }
  },
  {
   "cell_type": "code",
   "execution_count": 1292,
   "outputs": [
    {
     "data": {
      "text/plain": "(torch.Size([35, 90, 6]), torch.Size([3, 90, 6]))"
     },
     "execution_count": 1292,
     "metadata": {},
     "output_type": "execute_result"
    }
   ],
   "source": [
    "\n",
    "X_train.shape, X_test.shape\n"
   ],
   "metadata": {
    "collapsed": false,
    "pycharm": {
     "name": "#%%\n"
    }
   }
  },
  {
   "cell_type": "code",
   "execution_count": 1293,
   "outputs": [
    {
     "data": {
      "text/plain": "tensor([[ 46., 773.,   4.,  ...,   0.,   2.,   5.],\n        [100., 754.,   1.,  ...,   0.,   5.,   4.],\n        [ 40., 759.,   1.,  ...,   0.,   6.,   4.],\n        ...,\n        [ 55., 738.,   4.,  ...,   0.,   6.,   4.],\n        [114., 756.,   3.,  ...,   0.,   8.,   3.],\n        [ 50., 770.,   1.,  ...,   0.,   7.,   1.]])"
     },
     "execution_count": 1293,
     "metadata": {},
     "output_type": "execute_result"
    }
   ],
   "source": [
    "\n",
    "\n",
    "X_train = X_train.reshape([-1,90 * 6])\n",
    "X_test = X_test.reshape([-1, 90 * 6])\n",
    "X_train.data\n",
    "\n"
   ],
   "metadata": {
    "collapsed": false,
    "pycharm": {
     "name": "#%%\n"
    }
   }
  },
  {
   "cell_type": "code",
   "execution_count": 1294,
   "outputs": [],
   "source": [
    "class RiverNet(torch.nn.Module):\n",
    "    def __init__(self, n_hidden_neurons):\n",
    "        super(RiverNet, self).__init__()\n",
    "        self.fc1 = torch.nn.Linear(90 * 6, n_hidden_neurons)\n",
    "        self.ac1 = torch.nn.ReLU()\n",
    "        self.fc2 = torch.nn.Linear(n_hidden_neurons, 512)\n",
    "        self.ac2 = torch.nn.ReLU()\n",
    "        self.fc3 = torch.nn.Linear(512, 256)\n",
    "        self.ac3 = torch.nn.ReLU()\n",
    "        self.fc4 = torch.nn.Linear(256, 128)\n",
    "        self.ac4 = torch.nn.ReLU()\n",
    "        self.fc5 = torch.nn.Linear(128, 64)\n",
    "        self.ac5 = torch.nn.ReLU()\n",
    "        self.fc6 = torch.nn.Linear(64, 32)\n",
    "        self.ac6 = torch.nn.ReLU()\n",
    "        self.fc7 = torch.nn.Linear(32, 1)\n",
    "        self.ac7 = torch.nn.ReLU()\n",
    "\n",
    "    def forward(self, x):\n",
    "        x = self.fc1(x)\n",
    "        x = self.ac1(x)\n",
    "        x = self.fc2(x)\n",
    "        x = self.ac2(x)\n",
    "        x = self.fc3(x)\n",
    "        x = self.ac3(x)\n",
    "        x = self.fc4(x)\n",
    "        x = self.ac4(x)\n",
    "        x = self.fc5(x)\n",
    "        x = self.ac5(x)\n",
    "        x = self.fc6(x)\n",
    "        x = self.ac6(x)\n",
    "        x = self.fc7(x)\n",
    "        x = self.ac7(x)\n",
    "        return x\n",
    "\n",
    "river_net = RiverNet(1000)\n"
   ],
   "metadata": {
    "collapsed": false,
    "pycharm": {
     "name": "#%%\n"
    }
   }
  },
  {
   "cell_type": "code",
   "execution_count": 1295,
   "outputs": [],
   "source": [
    "device = torch.device('cuda:0' if torch.cuda.is_available() else 'cpu')\n",
    "river_net = river_net.to(device)"
   ],
   "metadata": {
    "collapsed": false,
    "pycharm": {
     "name": "#%%\n"
    }
   }
  },
  {
   "cell_type": "code",
   "execution_count": 1296,
   "outputs": [],
   "source": [
    "\n",
    "\n",
    "loss = torch.nn.MSELoss()\n",
    "optimizer = torch.optim.Adam(river_net.parameters(), lr=1.0e-3)\n"
   ],
   "metadata": {
    "collapsed": false,
    "pycharm": {
     "name": "#%%\n"
    }
   }
  },
  {
   "cell_type": "code",
   "execution_count": 1297,
   "outputs": [
    {
     "name": "stderr",
     "output_type": "stream",
     "text": [
      "f:\\ilya\\pycharmprojects\\river\\venv\\lib\\site-packages\\torch\\nn\\modules\\loss.py:529: UserWarning: Using a target size (torch.Size([1])) that is different to the input size (torch.Size([1, 1])). This will likely lead to incorrect results due to broadcasting. Please ensure they have the same size.\n",
      "  return F.mse_loss(input, target, reduction=self.reduction)\n"
     ]
    },
    {
     "name": "stdout",
     "output_type": "stream",
     "text": [
      "tensor(89951.8203) 0\n",
      "tensor(62781.5156) 1\n",
      "tensor(36707.0195) 2\n",
      "tensor(39012.5430) 3\n",
      "tensor(47239.3633) 4\n",
      "tensor(115562.0938) 5\n",
      "tensor(36797.8164) 6\n",
      "tensor(36125.7539) 7\n",
      "tensor(50173.8164) 8\n",
      "tensor(40017.1250) 9\n",
      "tensor(47421.4531) 10\n",
      "tensor(55844.4180) 11\n",
      "tensor(84815.2422) 12\n",
      "tensor(50363.9062) 13\n",
      "tensor(41502.6992) 14\n",
      "tensor(35197.6133) 15\n",
      "tensor(34655.4492) 16\n",
      "tensor(36105.3750) 17\n",
      "tensor(37022.4531) 18\n",
      "tensor(42592.6328) 19\n",
      "tensor(35061.1523) 20\n",
      "tensor(34832.4727) 21\n",
      "tensor(34635.2656) 22\n",
      "tensor(33834.6914) 23\n",
      "tensor(34121.8633) 24\n",
      "tensor(70120.6094) 25\n",
      "tensor(37644.1445) 26\n",
      "tensor(33427.1562) 27\n",
      "tensor(44692.5195) 28\n",
      "tensor(37066.0156) 29\n",
      "tensor(38989.3242) 30\n",
      "tensor(33150.5352) 31\n",
      "tensor(36170.1094) 32\n",
      "tensor(38233.9336) 33\n",
      "tensor(34547.2148) 34\n",
      "tensor(39476.7812) 35\n",
      "tensor(32648.3281) 36\n",
      "tensor(34575.2930) 37\n",
      "tensor(44110.5312) 38\n",
      "tensor(42785.4727) 39\n",
      "tensor(37405.5938) 40\n",
      "tensor(53337.1992) 41\n",
      "tensor(31527.0527) 42\n",
      "tensor(34285.2461) 43\n",
      "tensor(35176.0156) 44\n",
      "tensor(31046.0527) 45\n",
      "tensor(39856.1211) 46\n",
      "tensor(31023.9707) 47\n",
      "tensor(44512.0898) 48\n",
      "tensor(34722.0117) 49\n",
      "tensor(41203.2969) 50\n",
      "tensor(38586.8320) 51\n",
      "tensor(47752.6367) 52\n",
      "tensor(53259.3086) 53\n",
      "tensor(32135.1035) 54\n",
      "tensor(36688.2383) 55\n",
      "tensor(38845.9570) 56\n",
      "tensor(35153.2852) 57\n",
      "tensor(30525.7676) 58\n",
      "tensor(30052.8438) 59\n",
      "tensor(34704.0664) 60\n",
      "tensor(36833.7695) 61\n",
      "tensor(29606.0781) 62\n",
      "tensor(33047.0273) 63\n",
      "tensor(31133.9629) 64\n",
      "tensor(47084.5820) 65\n",
      "tensor(30626.7129) 66\n",
      "tensor(32520.8301) 67\n",
      "tensor(30386.5312) 68\n",
      "tensor(38266.3086) 69\n",
      "tensor(44675.5000) 70\n",
      "tensor(35291.3398) 71\n",
      "tensor(28987.9590) 72\n",
      "tensor(30075.9082) 73\n",
      "tensor(30574.2969) 74\n",
      "tensor(33066.2773) 75\n",
      "tensor(35870.3398) 76\n",
      "tensor(33158.7305) 77\n",
      "tensor(29321.8691) 78\n",
      "tensor(33109.7969) 79\n",
      "tensor(35062.9023) 80\n",
      "tensor(34360.9844) 81\n",
      "tensor(46680.5938) 82\n",
      "tensor(50164.3945) 83\n",
      "tensor(34134.7344) 84\n",
      "tensor(39694.4727) 85\n",
      "tensor(40527.1523) 86\n",
      "tensor(29009.2793) 87\n",
      "tensor(50269.3867) 88\n",
      "tensor(42843.1602) 89\n",
      "tensor(28263.1191) 90\n",
      "tensor(34612.8789) 91\n",
      "tensor(45353.7852) 92\n",
      "tensor(27987.3848) 93\n",
      "tensor(35466.0156) 94\n",
      "tensor(28458.4824) 95\n",
      "tensor(41321.5234) 96\n",
      "tensor(30481.5371) 97\n",
      "tensor(35289.5938) 98\n",
      "tensor(34156.8164) 99\n",
      "tensor(33322.2305) 100\n",
      "tensor(33350.3945) 101\n",
      "tensor(32749.0684) 102\n",
      "tensor(27343.5723) 103\n",
      "tensor(32319.9434) 104\n",
      "tensor(26791.0762) 105\n",
      "tensor(34396.8789) 106\n",
      "tensor(31817.4395) 107\n",
      "tensor(31779.4824) 108\n",
      "tensor(26364.5781) 109\n",
      "tensor(33580.1367) 110\n",
      "tensor(39228.8320) 111\n",
      "tensor(31628.3672) 112\n",
      "tensor(27180.4316) 113\n",
      "tensor(27292.9160) 114\n",
      "tensor(25944.1660) 115\n",
      "tensor(40204.7227) 116\n",
      "tensor(30543.1543) 117\n",
      "tensor(27573.7441) 118\n",
      "tensor(29942.3047) 119\n",
      "tensor(32776.9414) 120\n",
      "tensor(26955.5410) 121\n",
      "tensor(49027.4570) 122\n",
      "tensor(36522.6133) 123\n",
      "tensor(28754.7578) 124\n",
      "tensor(30992.6973) 125\n",
      "tensor(28018.5410) 126\n",
      "tensor(26003.0098) 127\n",
      "tensor(29493.3926) 128\n",
      "tensor(40427.9961) 129\n",
      "tensor(32651.7090) 130\n",
      "tensor(25842.4062) 131\n",
      "tensor(38997.0859) 132\n",
      "tensor(41495.4375) 133\n",
      "tensor(27435.0371) 134\n",
      "tensor(25317.6035) 135\n",
      "tensor(28850.4160) 136\n",
      "tensor(38771.3867) 137\n",
      "tensor(34926.9492) 138\n",
      "tensor(24321.2891) 139\n",
      "tensor(31845.6777) 140\n",
      "tensor(42819.7617) 141\n",
      "tensor(43446.3555) 142\n",
      "tensor(30111.8203) 143\n",
      "tensor(24818.5918) 144\n",
      "tensor(26082.4062) 145\n",
      "tensor(31222.8184) 146\n",
      "tensor(32277.1309) 147\n",
      "tensor(27841.6250) 148\n",
      "tensor(32478.0156) 149\n",
      "tensor(25529.6875) 150\n",
      "tensor(40315.4414) 151\n",
      "tensor(27779.7598) 152\n",
      "tensor(25315.8516) 153\n",
      "tensor(30878.3418) 154\n",
      "tensor(25619.8066) 155\n",
      "tensor(43125.3086) 156\n",
      "tensor(25496.5879) 157\n",
      "tensor(24789.5410) 158\n",
      "tensor(26061.0723) 159\n",
      "tensor(25247.2812) 160\n",
      "tensor(27469.8066) 161\n",
      "tensor(29585.9844) 162\n",
      "tensor(25318.3223) 163\n",
      "tensor(35259.3086) 164\n",
      "tensor(30071.9062) 165\n",
      "tensor(25388.0723) 166\n",
      "tensor(24349.1621) 167\n",
      "tensor(24103.3984) 168\n",
      "tensor(23978.2324) 169\n",
      "tensor(23492.1934) 170\n",
      "tensor(30802.9863) 171\n",
      "tensor(24572.3301) 172\n",
      "tensor(24334.8262) 173\n",
      "tensor(34534.2734) 174\n",
      "tensor(33939.5312) 175\n",
      "tensor(25675.5000) 176\n",
      "tensor(23563.2324) 177\n",
      "tensor(23983.2910) 178\n",
      "tensor(36576.8867) 179\n",
      "tensor(27073.4941) 180\n",
      "tensor(24977.1035) 181\n",
      "tensor(28485.7910) 182\n",
      "tensor(24012.9512) 183\n",
      "tensor(23629.4629) 184\n",
      "tensor(23666.2598) 185\n",
      "tensor(29686.9453) 186\n",
      "tensor(24007.5410) 187\n",
      "tensor(33082.5156) 188\n",
      "tensor(34251.0352) 189\n",
      "tensor(23429.2656) 190\n",
      "tensor(36349.6133) 191\n",
      "tensor(115877.6875) 192\n",
      "tensor(33192.5039) 193\n",
      "tensor(29993.1875) 194\n",
      "tensor(29249.3750) 195\n",
      "tensor(29601.5391) 196\n",
      "tensor(33871.2227) 197\n",
      "tensor(26424.1816) 198\n",
      "tensor(26107.3965) 199\n",
      "tensor(23977.6855) 200\n",
      "tensor(25008.1426) 201\n",
      "tensor(84100.2266) 202\n",
      "tensor(31947.1719) 203\n",
      "tensor(27345.4707) 204\n",
      "tensor(29093.7031) 205\n",
      "tensor(31451.5156) 206\n",
      "tensor(27971.9941) 207\n",
      "tensor(39914.4570) 208\n",
      "tensor(26299.4062) 209\n",
      "tensor(28775.6387) 210\n",
      "tensor(54744.2070) 211\n",
      "tensor(27467.5605) 212\n",
      "tensor(26597.3652) 213\n",
      "tensor(32393.6016) 214\n",
      "tensor(30747.3691) 215\n",
      "tensor(24208.8281) 216\n",
      "tensor(26485.4434) 217\n",
      "tensor(25278.4922) 218\n",
      "tensor(26836.2578) 219\n",
      "tensor(22905.1699) 220\n",
      "tensor(33365.3633) 221\n",
      "tensor(25215.2715) 222\n",
      "tensor(21759.0312) 223\n",
      "tensor(27482.0449) 224\n",
      "tensor(21209.4512) 225\n",
      "tensor(30308.1094) 226\n",
      "tensor(23886.6875) 227\n",
      "tensor(37145.3008) 228\n",
      "tensor(48490.3242) 229\n",
      "tensor(24548.8145) 230\n",
      "tensor(26046.4297) 231\n",
      "tensor(25509.3340) 232\n",
      "tensor(47990.5898) 233\n",
      "tensor(32204.4609) 234\n",
      "tensor(24206.7422) 235\n",
      "tensor(46590.1875) 236\n",
      "tensor(39019.7930) 237\n",
      "tensor(23352.1250) 238\n",
      "tensor(28788.1719) 239\n",
      "tensor(62528.8477) 240\n",
      "tensor(35521.3125) 241\n",
      "tensor(34317.9180) 242\n",
      "tensor(23137.3438) 243\n",
      "tensor(34047.3125) 244\n",
      "tensor(22964.3613) 245\n",
      "tensor(43294.5625) 246\n",
      "tensor(27038.7168) 247\n",
      "tensor(31508.6113) 248\n",
      "tensor(41634.0391) 249\n",
      "tensor(23354.5859) 250\n",
      "tensor(46732.4023) 251\n",
      "tensor(22999.4434) 252\n",
      "tensor(23161.0098) 253\n",
      "tensor(49630.3164) 254\n",
      "tensor(23879.9434) 255\n",
      "tensor(24064.1895) 256\n",
      "tensor(25007.9238) 257\n",
      "tensor(29292.3770) 258\n",
      "tensor(23693.8965) 259\n",
      "tensor(29824.6172) 260\n",
      "tensor(46367.7461) 261\n",
      "tensor(38401.9805) 262\n",
      "tensor(53773.0195) 263\n",
      "tensor(31749.0879) 264\n",
      "tensor(30280.3457) 265\n",
      "tensor(37111.2930) 266\n",
      "tensor(52104.1875) 267\n",
      "tensor(29567.5957) 268\n",
      "tensor(29459.1641) 269\n",
      "tensor(44352.6289) 270\n",
      "tensor(54577.5586) 271\n",
      "tensor(39380.0352) 272\n",
      "tensor(34047.2461) 273\n",
      "tensor(47021.7070) 274\n",
      "tensor(35622.2266) 275\n",
      "tensor(38862.3281) 276\n",
      "tensor(56344.4492) 277\n",
      "tensor(36077.2227) 278\n",
      "tensor(43905.0312) 279\n",
      "tensor(42332.2930) 280\n",
      "tensor(39417.5117) 281\n",
      "tensor(56605.9062) 282\n",
      "tensor(38610.3398) 283\n",
      "tensor(42118.4922) 284\n",
      "tensor(46536.4414) 285\n",
      "tensor(72902.6953) 286\n",
      "tensor(34636.8516) 287\n",
      "tensor(34750.6094) 288\n",
      "tensor(39169.4492) 289\n",
      "tensor(36525.4883) 290\n",
      "tensor(38340.7617) 291\n",
      "tensor(34920.5039) 292\n",
      "tensor(45131.6445) 293\n",
      "tensor(41657.8867) 294\n",
      "tensor(37353.0898) 295\n",
      "tensor(44640.6680) 296\n",
      "tensor(60414.7930) 297\n",
      "tensor(34810.5508) 298\n",
      "tensor(93511.0703) 299\n",
      "tensor(38882.0312) 300\n",
      "tensor(34529.2070) 301\n",
      "tensor(47326.5156) 302\n",
      "tensor(46357.6367) 303\n",
      "tensor(57458.2383) 304\n",
      "tensor(61185.8945) 305\n",
      "tensor(42318.6641) 306\n",
      "tensor(72559.0938) 307\n",
      "tensor(61528.2305) 308\n",
      "tensor(44750.9883) 309\n",
      "tensor(39657.8750) 310\n",
      "tensor(46557.7930) 311\n",
      "tensor(40681.8086) 312\n",
      "tensor(45755.4414) 313\n",
      "tensor(44413.2617) 314\n",
      "tensor(50782.0742) 315\n",
      "tensor(43713.2773) 316\n",
      "tensor(43317.5469) 317\n",
      "tensor(43484.0430) 318\n",
      "tensor(57218.1094) 319\n",
      "tensor(57600.6055) 320\n",
      "tensor(53415.1133) 321\n",
      "tensor(44096.3438) 322\n",
      "tensor(55167.8789) 323\n",
      "tensor(49353.2500) 324\n",
      "tensor(41229.9805) 325\n",
      "tensor(43813.3281) 326\n",
      "tensor(44453.2773) 327\n",
      "tensor(53084.1562) 328\n",
      "tensor(59389.3086) 329\n",
      "tensor(54503.0625) 330\n",
      "tensor(54455.0273) 331\n",
      "tensor(54731.4531) 332\n",
      "tensor(54660.6680) 333\n",
      "tensor(57116.7539) 334\n",
      "tensor(67449.9453) 335\n",
      "tensor(55230.7305) 336\n",
      "tensor(63520.6992) 337\n",
      "tensor(80948.0391) 338\n",
      "tensor(59342.3594) 339\n",
      "tensor(93989.) 340\n",
      "tensor(63306.1445) 341\n",
      "tensor(65799.3516) 342\n",
      "tensor(75909.5078) 343\n",
      "tensor(50722.1250) 344\n",
      "tensor(52490.1445) 345\n",
      "tensor(55442.0117) 346\n",
      "tensor(59571.6133) 347\n",
      "tensor(63815.3281) 348\n",
      "tensor(73100.9453) 349\n"
     ]
    }
   ],
   "source": [
    "batch_size = 1\n",
    "\n",
    "# test_accuracy_history = []\n",
    "# test_loss_history = []\n",
    "\n",
    "# X_test = X_test.to(device)\n",
    "# y_test = y_test.to(device)\n",
    "x = torch.Tensor()\n",
    "y = torch.Tensor()\n",
    "\n",
    "for epoch in range(350):\n",
    "    order = np.random.permutation(len(X_train))\n",
    "\n",
    "    for start_index in range(0, len(X_train), batch_size):\n",
    "        optimizer.zero_grad()\n",
    "\n",
    "        batch_indexes = order[start_index:start_index+batch_size]\n",
    "\n",
    "\n",
    "        X_batch = X_train[batch_indexes] #.to(device)\n",
    "        y_batch = y_train[batch_indexes] #.to(device)\n",
    "        preds = river_net.forward(X_batch)\n",
    "\n",
    "        # print(\"------------------\")\n",
    "        # print(preds)\n",
    "        # print(y_batch)\n",
    "\n",
    "        loss_value = loss(preds.float(), y_batch.float())\n",
    "        loss_value.backward()\n",
    "\n",
    "        optimizer.step()\n",
    "\n",
    "    test_preds = river_net.forward(X_test)\n",
    "#     test_loss_history.append(loss(test_preds, y_test))\n",
    "    a = []\n",
    "    for i in range(len(y_test)):\n",
    "        a.append((test_preds[i] - y_test[i])**2)\n",
    "\n",
    "    a = torch.Tensor(a)\n",
    "    accuracy = a.float().mean()\n",
    "#     test_accuracy_history.append(accuracy)\n",
    "    print(accuracy, epoch)"
   ],
   "metadata": {
    "collapsed": false,
    "pycharm": {
     "name": "#%%\n"
    }
   }
  },
  {
   "cell_type": "code",
   "execution_count": 1298,
   "outputs": [
    {
     "data": {
      "text/plain": "<Figure size 432x288 with 1 Axes>",
      "image/png": "[encoded data removed]"
     },
     "metadata": {
      "needs_background": "light"
     },
     "output_type": "display_data"
    }
   ],
   "source": [
    "for start_index in range(0, len(X_train), batch_size):\n",
    "        optimizer.zero_grad()\n",
    "\n",
    "        batch_indexes = order[start_index:start_index+batch_size]\n",
    "\n",
    "\n",
    "        X_batch = X_train[batch_indexes] #.to(device)\n",
    "        y_batch = y_train[batch_indexes] #.to(device)\n",
    "        preds = river_net.forward(X_batch)\n",
    "        x = torch.cat((x, y_batch),dim=0)\n",
    "        y = torch.cat((y, preds),dim=0)\n",
    "k = list([i for i in range(len(y))])\n",
    "plt.plot(numpy.array(k), y.detach().numpy(), 'o', label='Groud truth')\n",
    "plt.plot(numpy.array(k), x.detach().numpy(), 'o', c='r', label='Prediction');\n"
   ],
   "metadata": {
    "collapsed": false,
    "pycharm": {
     "name": "#%%\n"
    }
   }
  }
 ],
 "metadata": {
  "kernelspec": {
   "display_name": "Python 3",
   "language": "python",
   "name": "python3"
  },
  "language_info": {
   "codemirror_mode": {
    "name": "ipython",
    "version": 2
   },
   "file_extension": ".py",
   "mimetype": "text/x-python",
   "name": "python",
   "nbconvert_exporter": "python",
   "pygments_lexer": "ipython2",
   "version": "2.7.6"
  }
 },
 "nbformat": 4,
 "nbformat_minor": 0
}